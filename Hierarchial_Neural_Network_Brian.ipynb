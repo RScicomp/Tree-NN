{
  "nbformat": 4,
  "nbformat_minor": 0,
  "metadata": {
    "colab": {
      "name": "Hierarchial_Neural_Network Brian.ipynb",
      "provenance": [],
      "collapsed_sections": []
    },
    "kernelspec": {
      "name": "python3",
      "display_name": "Python 3.8.3 64-bit"
    },
    "language_info": {
      "name": "python",
      "version": "3.8.3"
    },
    "interpreter": {
      "hash": "aee8b7b246df8f9039afb4144a1f6fd8d2ca17a180786b69acc140d282b71a49"
    }
  },
  "cells": [
    {
      "cell_type": "code",
      "metadata": {
        "id": "nyeqeeCszhpb"
      },
      "source": [
        "import tensorflow as tf\n",
        "from tensorflow import keras\n",
        "import random\n",
        "import pandas as pd\n",
        "import numpy as np\n",
        "\n"
      ],
      "execution_count": 393,
      "outputs": []
    },
    {
      "cell_type": "code",
      "execution_count": 426,
      "metadata": {},
      "outputs": [
        {
          "output_type": "execute_result",
          "data": {
            "text/plain": [
              "      s0    s1    s2    s3    s4    s5    s6  action\n",
              "0    0.0  0.00  0.12  0.11  0.09  0.00  0.00     0.0\n",
              "1    0.0  0.00  0.28  0.26  0.25  0.00  0.00     0.0\n",
              "2    0.0  0.09  0.43  0.42  0.40  0.00  0.00     0.0\n",
              "3    0.0  0.22  0.59  0.57  0.56  0.00  0.00     0.0\n",
              "4    0.0  0.36  0.74  0.73  0.71  0.00  0.00     0.0\n",
              "..   ...   ...   ...   ...   ...   ...   ...     ...\n",
              "754  0.0  0.00  0.00  0.00  0.00  1.29  2.68    -1.0\n",
              "755  0.0  0.00  0.00  0.00  0.00  1.18  2.56     0.0\n",
              "756  0.0  0.00  0.00  0.00  0.00  1.18  2.61     0.0\n",
              "757  0.0  0.00  0.00  0.00  0.00  1.18  2.55     0.0\n",
              "758  0.0  0.00  0.00  0.00  0.00  1.17  2.50     0.0\n",
              "\n",
              "[759 rows x 8 columns]"
            ],
            "text/html": "<div>\n<style scoped>\n    .dataframe tbody tr th:only-of-type {\n        vertical-align: middle;\n    }\n\n    .dataframe tbody tr th {\n        vertical-align: top;\n    }\n\n    .dataframe thead th {\n        text-align: right;\n    }\n</style>\n<table border=\"1\" class=\"dataframe\">\n  <thead>\n    <tr style=\"text-align: right;\">\n      <th></th>\n      <th>s0</th>\n      <th>s1</th>\n      <th>s2</th>\n      <th>s3</th>\n      <th>s4</th>\n      <th>s5</th>\n      <th>s6</th>\n      <th>action</th>\n    </tr>\n  </thead>\n  <tbody>\n    <tr>\n      <th>0</th>\n      <td>0.0</td>\n      <td>0.00</td>\n      <td>0.12</td>\n      <td>0.11</td>\n      <td>0.09</td>\n      <td>0.00</td>\n      <td>0.00</td>\n      <td>0.0</td>\n    </tr>\n    <tr>\n      <th>1</th>\n      <td>0.0</td>\n      <td>0.00</td>\n      <td>0.28</td>\n      <td>0.26</td>\n      <td>0.25</td>\n      <td>0.00</td>\n      <td>0.00</td>\n      <td>0.0</td>\n    </tr>\n    <tr>\n      <th>2</th>\n      <td>0.0</td>\n      <td>0.09</td>\n      <td>0.43</td>\n      <td>0.42</td>\n      <td>0.40</td>\n      <td>0.00</td>\n      <td>0.00</td>\n      <td>0.0</td>\n    </tr>\n    <tr>\n      <th>3</th>\n      <td>0.0</td>\n      <td>0.22</td>\n      <td>0.59</td>\n      <td>0.57</td>\n      <td>0.56</td>\n      <td>0.00</td>\n      <td>0.00</td>\n      <td>0.0</td>\n    </tr>\n    <tr>\n      <th>4</th>\n      <td>0.0</td>\n      <td>0.36</td>\n      <td>0.74</td>\n      <td>0.73</td>\n      <td>0.71</td>\n      <td>0.00</td>\n      <td>0.00</td>\n      <td>0.0</td>\n    </tr>\n    <tr>\n      <th>...</th>\n      <td>...</td>\n      <td>...</td>\n      <td>...</td>\n      <td>...</td>\n      <td>...</td>\n      <td>...</td>\n      <td>...</td>\n      <td>...</td>\n    </tr>\n    <tr>\n      <th>754</th>\n      <td>0.0</td>\n      <td>0.00</td>\n      <td>0.00</td>\n      <td>0.00</td>\n      <td>0.00</td>\n      <td>1.29</td>\n      <td>2.68</td>\n      <td>-1.0</td>\n    </tr>\n    <tr>\n      <th>755</th>\n      <td>0.0</td>\n      <td>0.00</td>\n      <td>0.00</td>\n      <td>0.00</td>\n      <td>0.00</td>\n      <td>1.18</td>\n      <td>2.56</td>\n      <td>0.0</td>\n    </tr>\n    <tr>\n      <th>756</th>\n      <td>0.0</td>\n      <td>0.00</td>\n      <td>0.00</td>\n      <td>0.00</td>\n      <td>0.00</td>\n      <td>1.18</td>\n      <td>2.61</td>\n      <td>0.0</td>\n    </tr>\n    <tr>\n      <th>757</th>\n      <td>0.0</td>\n      <td>0.00</td>\n      <td>0.00</td>\n      <td>0.00</td>\n      <td>0.00</td>\n      <td>1.18</td>\n      <td>2.55</td>\n      <td>0.0</td>\n    </tr>\n    <tr>\n      <th>758</th>\n      <td>0.0</td>\n      <td>0.00</td>\n      <td>0.00</td>\n      <td>0.00</td>\n      <td>0.00</td>\n      <td>1.17</td>\n      <td>2.50</td>\n      <td>0.0</td>\n    </tr>\n  </tbody>\n</table>\n<p>759 rows × 8 columns</p>\n</div>"
          },
          "metadata": {},
          "execution_count": 426
        }
      ],
      "source": [
        "data = pd.read_csv(\"./robot_simulation/dataset.csv\")\n",
        "data"
      ]
    },
    {
      "cell_type": "markdown",
      "metadata": {
        "id": "0lWYbw2A-n0O"
      },
      "source": [
        "### Generate Mock data"
      ]
    },
    {
      "cell_type": "code",
      "metadata": {
        "id": "kxKONWFKnSGE"
      },
      "source": [
        "distance_definitions = {'near':.95,'medium':.7} # averaged output by perceptron\n",
        "wheel_definitions = {'slow':.5,'medium':.8}\n",
        "near_sensor = lambda x: 0 if (x >= distance_definitions['near']) else ( 1 if x >= distance_definitions['medium'] else 2)\n",
        "measure_wheel = lambda x: 0 if (x < wheel_definitions['slow']) else ( 1 if x < wheel_definitions['medium'] else 0)\n",
        "turn_away = lambda x: 0 if (near_sensor(x)==0) else 2\n",
        "actions = {'left':0,'right':1,'forward':2}\n"
      ],
      "execution_count": 394,
      "outputs": []
    },
    {
      "cell_type": "code",
      "metadata": {
        "id": "Y4MYADlBxmtV",
        "colab": {
          "base_uri": "https://localhost:8080/",
          "height": 1000
        },
        "outputId": "fc0ddf7f-e47b-4866-c119-3f0554f420f5"
      },
      "source": [
        "#near, medium, far - 0,1,2\n",
        "# To implement next - when torque is greater, make sensor data change\n",
        "generated_points = 1000\n",
        "\n",
        "def generate_sensor_data(evaluation):\n",
        "  # randomly generate voltage value\n",
        "  # perceptron tends to over-estimate how close something is to compensate\n",
        "  # for any signal loss due to noise/angle\n",
        "  # skew probability to produce smaller numbers more often, to balance out this trend\n",
        "  sensor_data_front = [random.triangular(0,2.9,0) for x in range(generated_points)]\n",
        "  sensor_data_front_target = [evaluation(x) for x in sensor_data_front]\n",
        "  sensor_data_front = pd.DataFrame(zip(sensor_data_front,sensor_data_front_target))\n",
        "  sensor_data_front.columns = ['x','y']\n",
        "  return(sensor_data_front)\n",
        "\n",
        "\n",
        "def generate_decisions(evaluation,turnaway):\n",
        "  sensor_data_front = [random.triangular(0,2.9,0) for x in range(generated_points)]\n",
        "  sensor_data_front_target = [evaluation(x) for x in sensor_data_front]\n",
        "  sensor_data_decision = [turnaway(x) for x in sensor_data_front]\n",
        "  sensor_data_front = pd.DataFrame(zip(sensor_data_front,sensor_data_decision,sensor_data_front_target))\n",
        "  sensor_data_front.columns = ['x','decision','y']\n",
        "  return(sensor_data_front)\n",
        "  \n",
        "sensor_front_data = generate_sensor_data(evaluation=near_sensor)\n",
        "sensor_front_data_decision = generate_decisions(evaluation=near_sensor,turnaway=turn_away)\n"
      ],
      "execution_count": 395,
      "outputs": []
    },
    {
      "cell_type": "code",
      "execution_count": 396,
      "metadata": {},
      "outputs": [
        {
          "output_type": "execute_result",
          "data": {
            "text/plain": [
              "            x  decision  y\n",
              "0    0.791712         2  1\n",
              "1    0.877051         2  1\n",
              "2    1.008516         0  0\n",
              "3    0.925044         2  1\n",
              "4    1.225539         0  0\n",
              "..        ...       ... ..\n",
              "995  1.440954         0  0\n",
              "996  1.473635         0  0\n",
              "997  0.693735         2  2\n",
              "998  1.114766         0  0\n",
              "999  0.556278         2  2\n",
              "\n",
              "[1000 rows x 3 columns]"
            ],
            "text/html": "<div>\n<style scoped>\n    .dataframe tbody tr th:only-of-type {\n        vertical-align: middle;\n    }\n\n    .dataframe tbody tr th {\n        vertical-align: top;\n    }\n\n    .dataframe thead th {\n        text-align: right;\n    }\n</style>\n<table border=\"1\" class=\"dataframe\">\n  <thead>\n    <tr style=\"text-align: right;\">\n      <th></th>\n      <th>x</th>\n      <th>decision</th>\n      <th>y</th>\n    </tr>\n  </thead>\n  <tbody>\n    <tr>\n      <th>0</th>\n      <td>0.791712</td>\n      <td>2</td>\n      <td>1</td>\n    </tr>\n    <tr>\n      <th>1</th>\n      <td>0.877051</td>\n      <td>2</td>\n      <td>1</td>\n    </tr>\n    <tr>\n      <th>2</th>\n      <td>1.008516</td>\n      <td>0</td>\n      <td>0</td>\n    </tr>\n    <tr>\n      <th>3</th>\n      <td>0.925044</td>\n      <td>2</td>\n      <td>1</td>\n    </tr>\n    <tr>\n      <th>4</th>\n      <td>1.225539</td>\n      <td>0</td>\n      <td>0</td>\n    </tr>\n    <tr>\n      <th>...</th>\n      <td>...</td>\n      <td>...</td>\n      <td>...</td>\n    </tr>\n    <tr>\n      <th>995</th>\n      <td>1.440954</td>\n      <td>0</td>\n      <td>0</td>\n    </tr>\n    <tr>\n      <th>996</th>\n      <td>1.473635</td>\n      <td>0</td>\n      <td>0</td>\n    </tr>\n    <tr>\n      <th>997</th>\n      <td>0.693735</td>\n      <td>2</td>\n      <td>2</td>\n    </tr>\n    <tr>\n      <th>998</th>\n      <td>1.114766</td>\n      <td>0</td>\n      <td>0</td>\n    </tr>\n    <tr>\n      <th>999</th>\n      <td>0.556278</td>\n      <td>2</td>\n      <td>2</td>\n    </tr>\n  </tbody>\n</table>\n<p>1000 rows × 3 columns</p>\n</div>"
          },
          "metadata": {},
          "execution_count": 396
        }
      ],
      "source": [
        "sensor_front_data_decision"
      ]
    },
    {
      "cell_type": "code",
      "metadata": {
        "id": "DkeP3zOH2IEC"
      },
      "source": [
        "\n",
        "# wheel_lf_data = generate_sensor_data(evaluation=measure_wheel)\n",
        "# wheel_rf_data = generate_sensor_data(evaluation=measure_wheel)\n",
        "# wheel_lb_data = generate_sensor_data(evaluation=measure_wheel)\n",
        "# wheel_rb_data = generate_sensor_data(evaluation=measure_wheel)\n",
        "from keras.utils.np_utils import to_categorical\n",
        "\n",
        "class NeuralNet():\n",
        "  def __init__(self,x,y,output,name):\n",
        "    self.X = x\n",
        "    self.y = y\n",
        "    self.output=output\n",
        "    self.name=name\n",
        "    model = keras.models.Sequential()\n",
        "    model.add(keras.layers.Dense(20,activation='relu')) # A layer connected to all layers\n",
        "    model.add(keras.layers.Dense(20,activation='relu')) # A layer connected to all layers\n",
        "    model.add(keras.layers.Dense(output,activation='softmax'))\n",
        "\n",
        "    model.compile(\n",
        "      loss=keras.losses.SparseCategoricalCrossentropy(),#'sparse_categorical_cross_entropy',\n",
        "      optimizer=keras.optimizers.SGD(),\n",
        "      metrics=['accuracy']\n",
        "    )\n",
        "\n",
        "    self.model=model\n",
        "  def train(self,**args):  \n",
        "    pass\n",
        "\n",
        "\n",
        "  def predict(self,test,**args):\n",
        "    predictions=self.model.predict(test)\n",
        "    return(predictions)\n",
        "\n",
        "  def cat_predict(self,test,**args):\n",
        "    predictions=self.model.predict_classes(test)\n",
        "    return(predictions)\n",
        "\n",
        "\n",
        "class InfraredNet(NeuralNet):\n",
        "  def __init__(self,input,target,output,name):\n",
        "    super().__init__(input,target,output,name)\n",
        "    model = keras.models.Sequential()\n",
        "    model.add(keras.layers.BatchNormalization())\n",
        "    model.add(keras.layers.Dense(20,activation='relu')) # A layer connected to all layers\n",
        "    model.add(keras.layers.Dense(20,activation='relu')) # A layer connected to all layers\n",
        "    model.add(keras.layers.Dense(output,activation='softmax'))\n",
        "\n",
        "    model.compile(\n",
        "      loss=keras.losses.SparseCategoricalCrossentropy(),#'sparse_categorical_cross_entropy',\n",
        "      optimizer=keras.optimizers.SGD(),\n",
        "      metrics=['accuracy']\n",
        "    )\n",
        "    # input_sensor = keras.layers.Input(shape=input.shape[1], name=name)\n",
        "    # hidden1 = keras.layers.Dense(30, activation=\"relu\")(input_sensor)\n",
        "    # output = keras.layers.Dense(len(set(self.y)), name=\"output\")(hidden1)\n",
        "\n",
        "    # self.model = keras.models.Model(inputs=[input_sensor], outputs=[output])  \n",
        "    # self.model.compile(loss=\"sparse_categorical_entropy\",\n",
        "    #               optimizer=keras.optimizers.RMSprop(),\n",
        "    #               metrics=['accuracy'])\n",
        "    self.model=model\n",
        "  def train(self):\n",
        "    self.model.fit(self.X,self.y,epochs=30,batch_size=32)\n",
        "  \n",
        "  # def predict(self,test):\n",
        "  #   self.model.predict(test)\n",
        "\n",
        "class MainNet(NeuralNet):\n",
        "  def __init__(self,input,target,output,name):\n",
        "    super().__init__(input,target,output,name)\n",
        "    model = keras.models.Sequential()\n",
        "    model.add(keras.layers.Dense(20,activation='relu')) # A layer connected to all layers\n",
        "    model.add(keras.layers.Dense(20,activation='relu')) # A layer connected to all layers\n",
        "    model.add(keras.layers.Dense(output,activation='softmax'))\n",
        "\n",
        "    model.compile(\n",
        "      loss=keras.losses.SparseCategoricalCrossentropy(),#'sparse_categorical_cross_entropy',\n",
        "      optimizer=keras.optimizers.SGD(),\n",
        "      metrics=['accuracy']\n",
        "    )\n",
        "\n",
        "    self.model=model\n",
        "\n",
        "  def train(self):\n",
        "    self.model.fit(self.X,self.y,epochs=30,batch_size=32)\n",
        "  \n",
        "  # def predict(self,test):\n",
        "  #   self.model.predict(self,test)\n",
        "\n",
        "class TreeNet():\n",
        "  def __init__(self,sensors,mainnet=None):\n",
        "    # assert(type(models[0]) == NeuralNet)\n",
        "    self.sensors = sensors\n",
        "\n",
        "    self.mainnet = mainnet\n",
        "\n",
        "  \n",
        "  # Train all models\n",
        "  def train(self,data,y,train_sensors=True):\n",
        "    all_predictions = []\n",
        "\n",
        "    for model,sensor_data in zip(self.sensors,data):\n",
        "      if(train_sensors==True):\n",
        "        print(\"Training \" + model.name)\n",
        "        model.X=sensor_data[0]\n",
        "        model.y=sensor_data[1]\n",
        "        model.train()\n",
        "      predictions = model.predict(model.X)\n",
        "      all_predictions.append(predictions)\n",
        "    # all_predictions \n",
        "    training_data=np.concatenate((all_predictions),axis=1)\n",
        "    # print(training_data)\n",
        "    self.mainnet.X = training_data\n",
        "    self.mainnet.y = y\n",
        "    print(\"Training mainnet...\")\n",
        "    print(training_data)\n",
        "    self.mainnet.train()\n",
        "    # return(training_data)#training_data)\n",
        "\n",
        "  def standardize_data(self,X):\n",
        "    return([[x] for x in X])\n",
        "  \n",
        "  def standardize_data_all(self,X):\n",
        "    all_data=[]\n",
        "    for x in X:\n",
        "      res=[]\n",
        "      for sub_x in x:\n",
        "        res.append([sub_x])\n",
        "      all_data.append(res)\n",
        "    return(all_data)\n",
        "  # Use predictions of models to train main net\n",
        "  def predict(self,X):\n",
        "    all_predictions = []\n",
        "\n",
        "    for model,sensor_data in zip(self.sensors,X):\n",
        "      predictions = model.predict(sensor_data)\n",
        "      all_predictions.append(predictions)\n",
        "\n",
        "    # all_predictions \n",
        "    test_data=np.concatenate((all_predictions),axis=1)\n",
        "    # print(training_data)\n",
        "    predictions=self.mainnet.predict(test_data)\n",
        "    return(predictions)\n",
        "\n",
        "  def predict_class(self,X):\n",
        "    all_predictions = []\n",
        "\n",
        "    for model,sensor_data in zip(self.sensors,X):\n",
        "\n",
        "      predictions = model.predict(sensor_data)\n",
        "      all_predictions.append(predictions)\n",
        "    # all_predictions \n",
        "    test_data=np.concatenate((all_predictions),axis=1)\n",
        "    print(test_data)\n",
        "    # print(training_data)\n",
        "    predictions=self.mainnet.cat_predict(test_data)\n",
        "    return(predictions)"
      ],
      "execution_count": 397,
      "outputs": []
    },
    {
      "cell_type": "code",
      "execution_count": 419,
      "metadata": {},
      "outputs": [],
      "source": [
        "# infrared_net = InfraredNet(input=sensor_front_data_decision[['x']].values,target = sensor_front_data_decision[['y']].values,output=3,name='front_sensor')\n",
        "# infrared_net_2 = InfraredNet(input=sensor_front_data_decision[['x']].values,target = sensor_front_data_decision[['y']].values,output=3,name='side_sensor')\n",
        "# # main_net = MainNet(input = predictions,target=sensor_front_data_decision['decision'],output=3,name=\"main_net\")\n",
        "# main_net = MainNet(input = predictions,target=sensor_front_data_decision['decision'],output=3,name=\"main_net\")\n",
        "infrared_net = InfraredNet(input=None,target = None,output=3,name='front_sensor')\n",
        "infrared_net_2 = InfraredNet(input=None,target = None,output=3,name='side_sensor')\n",
        "infrared_net_3 = InfraredNet(input=None,target = None,output=3,name='side_sensor2')\n",
        "\n",
        "# main_net = MainNet(input = predictions,target=sensor_front_data_decision['decision'],output=3,name=\"main_net\")\n",
        "main_net = MainNet(input = None,target=None,output=3,name=\"main_net\")\n",
        "# infrared_net.train()\n"
      ]
    },
    {
      "cell_type": "code",
      "execution_count": 420,
      "metadata": {},
      "outputs": [
        {
          "output_type": "execute_result",
          "data": {
            "text/plain": [
              "            x  decision  y\n",
              "0    0.791712         2  1\n",
              "1    0.877051         2  1\n",
              "2    1.008516         0  0\n",
              "3    0.925044         2  1\n",
              "4    1.225539         0  0\n",
              "..        ...       ... ..\n",
              "995  1.440954         0  0\n",
              "996  1.473635         0  0\n",
              "997  0.693735         2  2\n",
              "998  1.114766         0  0\n",
              "999  0.556278         2  2\n",
              "\n",
              "[1000 rows x 3 columns]"
            ],
            "text/html": "<div>\n<style scoped>\n    .dataframe tbody tr th:only-of-type {\n        vertical-align: middle;\n    }\n\n    .dataframe tbody tr th {\n        vertical-align: top;\n    }\n\n    .dataframe thead th {\n        text-align: right;\n    }\n</style>\n<table border=\"1\" class=\"dataframe\">\n  <thead>\n    <tr style=\"text-align: right;\">\n      <th></th>\n      <th>x</th>\n      <th>decision</th>\n      <th>y</th>\n    </tr>\n  </thead>\n  <tbody>\n    <tr>\n      <th>0</th>\n      <td>0.791712</td>\n      <td>2</td>\n      <td>1</td>\n    </tr>\n    <tr>\n      <th>1</th>\n      <td>0.877051</td>\n      <td>2</td>\n      <td>1</td>\n    </tr>\n    <tr>\n      <th>2</th>\n      <td>1.008516</td>\n      <td>0</td>\n      <td>0</td>\n    </tr>\n    <tr>\n      <th>3</th>\n      <td>0.925044</td>\n      <td>2</td>\n      <td>1</td>\n    </tr>\n    <tr>\n      <th>4</th>\n      <td>1.225539</td>\n      <td>0</td>\n      <td>0</td>\n    </tr>\n    <tr>\n      <th>...</th>\n      <td>...</td>\n      <td>...</td>\n      <td>...</td>\n    </tr>\n    <tr>\n      <th>995</th>\n      <td>1.440954</td>\n      <td>0</td>\n      <td>0</td>\n    </tr>\n    <tr>\n      <th>996</th>\n      <td>1.473635</td>\n      <td>0</td>\n      <td>0</td>\n    </tr>\n    <tr>\n      <th>997</th>\n      <td>0.693735</td>\n      <td>2</td>\n      <td>2</td>\n    </tr>\n    <tr>\n      <th>998</th>\n      <td>1.114766</td>\n      <td>0</td>\n      <td>0</td>\n    </tr>\n    <tr>\n      <th>999</th>\n      <td>0.556278</td>\n      <td>2</td>\n      <td>2</td>\n    </tr>\n  </tbody>\n</table>\n<p>1000 rows × 3 columns</p>\n</div>"
          },
          "metadata": {},
          "execution_count": 420
        }
      ],
      "source": [
        "sensor_front_data_decision"
      ]
    },
    {
      "cell_type": "code",
      "execution_count": 417,
      "metadata": {},
      "outputs": [
        {
          "output_type": "stream",
          "name": "stderr",
          "text": [
            "/usr/local/lib/python3.8/site-packages/pandas/core/series.py:1056: SettingWithCopyWarning: \nA value is trying to be set on a copy of a slice from a DataFrame\n\nSee the caveats in the documentation: https://pandas.pydata.org/pandas-docs/stable/user_guide/indexing.html#returning-a-view-versus-a-copy\n  cacher_needs_updating = self._check_is_chained_assignment_possible()\n/usr/local/lib/python3.8/site-packages/pandas/core/indexing.py:1724: SettingWithCopyWarning: \nA value is trying to be set on a copy of a slice from a DataFrame\n\nSee the caveats in the documentation: https://pandas.pydata.org/pandas-docs/stable/user_guide/indexing.html#returning-a-view-versus-a-copy\n  self._setitem_with_indexer_missing(indexer, value)\n"
          ]
        }
      ],
      "source": [
        "temp = sensor_front_data_decision.iloc[0]\n",
        "temp['Target'] = temp['x']"
      ]
    },
    {
      "cell_type": "code",
      "execution_count": 418,
      "metadata": {},
      "outputs": [
        {
          "output_type": "execute_result",
          "data": {
            "text/plain": [
              "x           0.791712\n",
              "decision    2.000000\n",
              "y           1.000000\n",
              "Target      0.791712\n",
              "Name: 0, dtype: float64"
            ]
          },
          "metadata": {},
          "execution_count": 418
        }
      ],
      "source": [
        "temp"
      ]
    },
    {
      "cell_type": "code",
      "execution_count": 423,
      "metadata": {
        "tags": []
      },
      "outputs": [
        {
          "output_type": "stream",
          "name": "stdout",
          "text": [
            "Training front_sensor\n",
            "Epoch 1/30\n",
            "32/32 [==============================] - 0s 1ms/step - loss: 0.3333 - accuracy: 0.8530\n",
            "Epoch 2/30\n",
            "32/32 [==============================] - 0s 2ms/step - loss: 0.2708 - accuracy: 0.8710\n",
            "Epoch 3/30\n",
            "32/32 [==============================] - 0s 2ms/step - loss: 0.2587 - accuracy: 0.8790\n",
            "Epoch 4/30\n",
            "32/32 [==============================] - 0s 2ms/step - loss: 0.2776 - accuracy: 0.8820\n",
            "Epoch 5/30\n",
            "32/32 [==============================] - 0s 2ms/step - loss: 0.2711 - accuracy: 0.8810\n",
            "Epoch 6/30\n",
            "32/32 [==============================] - 0s 2ms/step - loss: 0.2973 - accuracy: 0.8630\n",
            "Epoch 7/30\n",
            "32/32 [==============================] - 0s 1ms/step - loss: 0.3003 - accuracy: 0.8750\n",
            "Epoch 8/30\n",
            "32/32 [==============================] - 0s 2ms/step - loss: 0.2471 - accuracy: 0.8970\n",
            "Epoch 9/30\n",
            "32/32 [==============================] - 0s 1ms/step - loss: 0.2909 - accuracy: 0.8800\n",
            "Epoch 10/30\n",
            "32/32 [==============================] - 0s 2ms/step - loss: 0.2360 - accuracy: 0.9040\n",
            "Epoch 11/30\n",
            "32/32 [==============================] - 0s 1ms/step - loss: 0.2411 - accuracy: 0.8890\n",
            "Epoch 12/30\n",
            "32/32 [==============================] - 0s 1ms/step - loss: 0.2251 - accuracy: 0.9010\n",
            "Epoch 13/30\n",
            "32/32 [==============================] - 0s 1ms/step - loss: 0.2768 - accuracy: 0.8780\n",
            "Epoch 14/30\n",
            "32/32 [==============================] - 0s 1ms/step - loss: 0.2327 - accuracy: 0.9030\n",
            "Epoch 15/30\n",
            "32/32 [==============================] - 0s 1ms/step - loss: 0.2553 - accuracy: 0.8920\n",
            "Epoch 16/30\n",
            "32/32 [==============================] - 0s 2ms/step - loss: 0.2431 - accuracy: 0.8890\n",
            "Epoch 17/30\n",
            "32/32 [==============================] - 0s 2ms/step - loss: 0.2281 - accuracy: 0.9020\n",
            "Epoch 18/30\n",
            "32/32 [==============================] - 0s 1ms/step - loss: 0.2586 - accuracy: 0.8740\n",
            "Epoch 19/30\n",
            "32/32 [==============================] - 0s 2ms/step - loss: 0.2283 - accuracy: 0.9020\n",
            "Epoch 20/30\n",
            "32/32 [==============================] - 0s 1ms/step - loss: 0.2291 - accuracy: 0.9090\n",
            "Epoch 21/30\n",
            "32/32 [==============================] - 0s 2ms/step - loss: 0.2626 - accuracy: 0.8840\n",
            "Epoch 22/30\n",
            "32/32 [==============================] - 0s 2ms/step - loss: 0.2615 - accuracy: 0.8870\n",
            "Epoch 23/30\n",
            "32/32 [==============================] - 0s 2ms/step - loss: 0.2600 - accuracy: 0.8870\n",
            "Epoch 24/30\n",
            "32/32 [==============================] - 0s 2ms/step - loss: 0.2535 - accuracy: 0.8970\n",
            "Epoch 25/30\n",
            "32/32 [==============================] - 0s 2ms/step - loss: 0.2509 - accuracy: 0.8900\n",
            "Epoch 26/30\n",
            "32/32 [==============================] - 0s 2ms/step - loss: 0.2193 - accuracy: 0.9020\n",
            "Epoch 27/30\n",
            "32/32 [==============================] - 0s 1ms/step - loss: 0.2042 - accuracy: 0.9270\n",
            "Epoch 28/30\n",
            "32/32 [==============================] - 0s 1ms/step - loss: 0.2819 - accuracy: 0.8710\n",
            "Epoch 29/30\n",
            "32/32 [==============================] - 0s 1ms/step - loss: 0.2558 - accuracy: 0.8910\n",
            "Epoch 30/30\n",
            "32/32 [==============================] - 0s 2ms/step - loss: 0.2316 - accuracy: 0.8940\n",
            "Training side_sensor\n",
            "Epoch 1/30\n",
            "32/32 [==============================] - 0s 3ms/step - loss: 0.2739 - accuracy: 0.8770\n",
            "Epoch 2/30\n",
            "32/32 [==============================] - 0s 2ms/step - loss: 0.2480 - accuracy: 0.9010\n",
            "Epoch 3/30\n",
            "32/32 [==============================] - 0s 2ms/step - loss: 0.2505 - accuracy: 0.8940\n",
            "Epoch 4/30\n",
            "32/32 [==============================] - 0s 2ms/step - loss: 0.2580 - accuracy: 0.8890\n",
            "Epoch 5/30\n",
            "32/32 [==============================] - 0s 2ms/step - loss: 0.2565 - accuracy: 0.8840\n",
            "Epoch 6/30\n",
            "32/32 [==============================] - 0s 2ms/step - loss: 0.2375 - accuracy: 0.9010\n",
            "Epoch 7/30\n",
            "32/32 [==============================] - 0s 2ms/step - loss: 0.2502 - accuracy: 0.8940\n",
            "Epoch 8/30\n",
            "32/32 [==============================] - 0s 2ms/step - loss: 0.2500 - accuracy: 0.8870\n",
            "Epoch 9/30\n",
            "32/32 [==============================] - 0s 2ms/step - loss: 0.2269 - accuracy: 0.9110\n",
            "Epoch 10/30\n",
            "32/32 [==============================] - 0s 2ms/step - loss: 0.2181 - accuracy: 0.9140\n",
            "Epoch 11/30\n",
            "32/32 [==============================] - 0s 2ms/step - loss: 0.2349 - accuracy: 0.9060\n",
            "Epoch 12/30\n",
            "32/32 [==============================] - 0s 2ms/step - loss: 0.2061 - accuracy: 0.9190\n",
            "Epoch 13/30\n",
            "32/32 [==============================] - 0s 2ms/step - loss: 0.2351 - accuracy: 0.9050\n",
            "Epoch 14/30\n",
            "32/32 [==============================] - 0s 2ms/step - loss: 0.2242 - accuracy: 0.9150\n",
            "Epoch 15/30\n",
            "32/32 [==============================] - 0s 2ms/step - loss: 0.2033 - accuracy: 0.9240\n",
            "Epoch 16/30\n",
            "32/32 [==============================] - 0s 2ms/step - loss: 0.2234 - accuracy: 0.9080\n",
            "Epoch 17/30\n",
            "32/32 [==============================] - 0s 2ms/step - loss: 0.2411 - accuracy: 0.8980\n",
            "Epoch 18/30\n",
            "32/32 [==============================] - 0s 1ms/step - loss: 0.2499 - accuracy: 0.8940\n",
            "Epoch 19/30\n",
            "32/32 [==============================] - 0s 2ms/step - loss: 0.2471 - accuracy: 0.9020\n",
            "Epoch 20/30\n",
            "32/32 [==============================] - 0s 2ms/step - loss: 0.2259 - accuracy: 0.8950\n",
            "Epoch 21/30\n",
            "32/32 [==============================] - 0s 2ms/step - loss: 0.2172 - accuracy: 0.9090\n",
            "Epoch 22/30\n",
            "32/32 [==============================] - 0s 2ms/step - loss: 0.2139 - accuracy: 0.9120\n",
            "Epoch 23/30\n",
            "32/32 [==============================] - 0s 2ms/step - loss: 0.2341 - accuracy: 0.8980\n",
            "Epoch 24/30\n",
            "32/32 [==============================] - 0s 2ms/step - loss: 0.2427 - accuracy: 0.8980\n",
            "Epoch 25/30\n",
            "32/32 [==============================] - 0s 2ms/step - loss: 0.2572 - accuracy: 0.8840\n",
            "Epoch 26/30\n",
            "32/32 [==============================] - 0s 2ms/step - loss: 0.2715 - accuracy: 0.8810\n",
            "Epoch 27/30\n",
            "32/32 [==============================] - 0s 2ms/step - loss: 0.2349 - accuracy: 0.9080\n",
            "Epoch 28/30\n",
            "32/32 [==============================] - 0s 1ms/step - loss: 0.2245 - accuracy: 0.8970\n",
            "Epoch 29/30\n",
            "32/32 [==============================] - 0s 1ms/step - loss: 0.2233 - accuracy: 0.9010\n",
            "Epoch 30/30\n",
            "32/32 [==============================] - 0s 1ms/step - loss: 0.2063 - accuracy: 0.9170\n",
            "Training side_sensor2\n",
            "Epoch 1/30\n",
            "32/32 [==============================] - 0s 2ms/step - loss: 0.2696 - accuracy: 0.8740\n",
            "Epoch 2/30\n",
            "32/32 [==============================] - 0s 2ms/step - loss: 0.2524 - accuracy: 0.8840\n",
            "Epoch 3/30\n",
            "32/32 [==============================] - 0s 1ms/step - loss: 0.2712 - accuracy: 0.8770\n",
            "Epoch 4/30\n",
            "32/32 [==============================] - 0s 1ms/step - loss: 0.2575 - accuracy: 0.8760\n",
            "Epoch 5/30\n",
            "32/32 [==============================] - 0s 1ms/step - loss: 0.2660 - accuracy: 0.8730\n",
            "Epoch 6/30\n",
            "32/32 [==============================] - 0s 2ms/step - loss: 0.2556 - accuracy: 0.8790\n",
            "Epoch 7/30\n",
            "32/32 [==============================] - 0s 1ms/step - loss: 0.2572 - accuracy: 0.8810\n",
            "Epoch 8/30\n",
            "32/32 [==============================] - 0s 1ms/step - loss: 0.2305 - accuracy: 0.8930\n",
            "Epoch 9/30\n",
            "32/32 [==============================] - 0s 1ms/step - loss: 0.2903 - accuracy: 0.8730\n",
            "Epoch 10/30\n",
            "32/32 [==============================] - 0s 1ms/step - loss: 0.2828 - accuracy: 0.8720\n",
            "Epoch 11/30\n",
            "32/32 [==============================] - 0s 1ms/step - loss: 0.2593 - accuracy: 0.8850\n",
            "Epoch 12/30\n",
            "32/32 [==============================] - 0s 2ms/step - loss: 0.2729 - accuracy: 0.8770\n",
            "Epoch 13/30\n",
            "32/32 [==============================] - 0s 2ms/step - loss: 0.2552 - accuracy: 0.8800\n",
            "Epoch 14/30\n",
            "32/32 [==============================] - 0s 2ms/step - loss: 0.2474 - accuracy: 0.8940\n",
            "Epoch 15/30\n",
            "32/32 [==============================] - 0s 1ms/step - loss: 0.2621 - accuracy: 0.8850\n",
            "Epoch 16/30\n",
            "32/32 [==============================] - 0s 2ms/step - loss: 0.2655 - accuracy: 0.8840\n",
            "Epoch 17/30\n",
            "32/32 [==============================] - 0s 1ms/step - loss: 0.2451 - accuracy: 0.8910\n",
            "Epoch 18/30\n",
            "32/32 [==============================] - 0s 1ms/step - loss: 0.2930 - accuracy: 0.8590\n",
            "Epoch 19/30\n",
            "32/32 [==============================] - 0s 1ms/step - loss: 0.2360 - accuracy: 0.9090\n",
            "Epoch 20/30\n",
            "32/32 [==============================] - 0s 1ms/step - loss: 0.2438 - accuracy: 0.8930\n",
            "Epoch 21/30\n",
            "32/32 [==============================] - 0s 1ms/step - loss: 0.2746 - accuracy: 0.8730\n",
            "Epoch 22/30\n",
            "32/32 [==============================] - 0s 2ms/step - loss: 0.2892 - accuracy: 0.8660\n",
            "Epoch 23/30\n",
            "32/32 [==============================] - 0s 1ms/step - loss: 0.2427 - accuracy: 0.8950\n",
            "Epoch 24/30\n",
            "32/32 [==============================] - 0s 2ms/step - loss: 0.2149 - accuracy: 0.9140\n",
            "Epoch 25/30\n",
            "32/32 [==============================] - 0s 1ms/step - loss: 0.2575 - accuracy: 0.8810\n",
            "Epoch 26/30\n",
            "32/32 [==============================] - 0s 1ms/step - loss: 0.2464 - accuracy: 0.8930\n",
            "Epoch 27/30\n",
            "32/32 [==============================] - 0s 1ms/step - loss: 0.2831 - accuracy: 0.8750\n",
            "Epoch 28/30\n",
            "32/32 [==============================] - 0s 1ms/step - loss: 0.2447 - accuracy: 0.8860\n",
            "Epoch 29/30\n",
            "32/32 [==============================] - 0s 1ms/step - loss: 0.2561 - accuracy: 0.8870\n",
            "Epoch 30/30\n",
            "32/32 [==============================] - 0s 2ms/step - loss: 0.2648 - accuracy: 0.8870\n",
            "Training mainnet...\n",
            "[[0.1115828  0.52896315 0.35945395 ... 0.13296966 0.48275948 0.3842709 ]\n",
            " [0.33199146 0.52855194 0.1394565  ... 0.36627588 0.4878807  0.14584342]\n",
            " [0.7703288  0.20446025 0.02521094 ... 0.7411734  0.22252229 0.03630425]\n",
            " ...\n",
            " [0.03043339 0.31170958 0.657857   ... 0.04232147 0.31324345 0.6444351 ]\n",
            " [0.89164114 0.10032854 0.00803036 ... 0.87335175 0.11183111 0.01481713]\n",
            " [0.00471992 0.11693306 0.87834704 ... 0.00666383 0.12189968 0.8714365 ]]\n",
            "Epoch 1/30\n",
            "32/32 [==============================] - 0s 1ms/step - loss: 0.0241 - accuracy: 0.9960\n",
            "Epoch 2/30\n",
            "32/32 [==============================] - 0s 1ms/step - loss: 0.0233 - accuracy: 0.9960\n",
            "Epoch 3/30\n",
            "32/32 [==============================] - 0s 1ms/step - loss: 0.0226 - accuracy: 0.9960\n",
            "Epoch 4/30\n",
            "32/32 [==============================] - 0s 1ms/step - loss: 0.0219 - accuracy: 0.9960\n",
            "Epoch 5/30\n",
            "32/32 [==============================] - 0s 1ms/step - loss: 0.0213 - accuracy: 0.9970\n",
            "Epoch 6/30\n",
            "32/32 [==============================] - 0s 1ms/step - loss: 0.0206 - accuracy: 0.9970\n",
            "Epoch 7/30\n",
            "32/32 [==============================] - 0s 1ms/step - loss: 0.0201 - accuracy: 0.9970\n",
            "Epoch 8/30\n",
            "32/32 [==============================] - 0s 1ms/step - loss: 0.0195 - accuracy: 0.9970\n",
            "Epoch 9/30\n",
            "32/32 [==============================] - 0s 1ms/step - loss: 0.0191 - accuracy: 0.9980\n",
            "Epoch 10/30\n",
            "32/32 [==============================] - 0s 1ms/step - loss: 0.0186 - accuracy: 0.9980\n",
            "Epoch 11/30\n",
            "32/32 [==============================] - 0s 1ms/step - loss: 0.0182 - accuracy: 0.9980\n",
            "Epoch 12/30\n",
            "32/32 [==============================] - 0s 1ms/step - loss: 0.0177 - accuracy: 0.9980\n",
            "Epoch 13/30\n",
            "32/32 [==============================] - 0s 1ms/step - loss: 0.0174 - accuracy: 0.9980\n",
            "Epoch 14/30\n",
            "32/32 [==============================] - 0s 1ms/step - loss: 0.0170 - accuracy: 0.9980\n",
            "Epoch 15/30\n",
            "32/32 [==============================] - 0s 1ms/step - loss: 0.0166 - accuracy: 0.9980\n",
            "Epoch 16/30\n",
            "32/32 [==============================] - 0s 978us/step - loss: 0.0163 - accuracy: 0.9980\n",
            "Epoch 17/30\n",
            "32/32 [==============================] - 0s 1ms/step - loss: 0.0160 - accuracy: 0.9980\n",
            "Epoch 18/30\n",
            "32/32 [==============================] - 0s 1ms/step - loss: 0.0157 - accuracy: 0.9980\n",
            "Epoch 19/30\n",
            "32/32 [==============================] - 0s 1ms/step - loss: 0.0154 - accuracy: 0.9980\n",
            "Epoch 20/30\n",
            "32/32 [==============================] - 0s 1ms/step - loss: 0.0151 - accuracy: 0.9980\n",
            "Epoch 21/30\n",
            "32/32 [==============================] - 0s 1ms/step - loss: 0.0148 - accuracy: 0.9980\n",
            "Epoch 22/30\n",
            "32/32 [==============================] - 0s 1ms/step - loss: 0.0146 - accuracy: 0.9980\n",
            "Epoch 23/30\n",
            "32/32 [==============================] - 0s 931us/step - loss: 0.0144 - accuracy: 0.9980\n",
            "Epoch 24/30\n",
            "32/32 [==============================] - 0s 1ms/step - loss: 0.0141 - accuracy: 0.9980\n",
            "Epoch 25/30\n",
            "32/32 [==============================] - 0s 981us/step - loss: 0.0139 - accuracy: 0.9980\n",
            "Epoch 26/30\n",
            "32/32 [==============================] - 0s 1ms/step - loss: 0.0137 - accuracy: 0.9980\n",
            "Epoch 27/30\n",
            "32/32 [==============================] - 0s 1ms/step - loss: 0.0135 - accuracy: 0.9980\n",
            "Epoch 28/30\n",
            "32/32 [==============================] - 0s 1ms/step - loss: 0.0133 - accuracy: 0.9980\n",
            "Epoch 29/30\n",
            "32/32 [==============================] - 0s 1ms/step - loss: 0.0132 - accuracy: 0.9980\n",
            "Epoch 30/30\n",
            "32/32 [==============================] - 0s 1ms/step - loss: 0.0130 - accuracy: 0.9980\n",
            "[[9.9954623e-01 4.5118365e-04 2.5552481e-06 ... 9.9980944e-01\n",
            "  1.8626029e-04 4.3138512e-06]\n",
            " [2.4664649e-04 2.2054523e-02 9.7769880e-01 ... 3.4975872e-04\n",
            "  2.3432532e-02 9.7621775e-01]\n",
            " [2.3243443e-05 5.6924047e-03 9.9428433e-01 ... 3.0090498e-05\n",
            "  5.8013042e-03 9.9416864e-01]\n",
            " ...\n",
            " [3.6475839e-04 2.7567007e-02 9.7206825e-01 ... 5.3208630e-04\n",
            "  2.9769547e-02 9.6969831e-01]\n",
            " [6.5397229e-03 1.3987102e-01 8.5358924e-01 ... 9.1997702e-03\n",
            "  1.4476067e-01 8.4603953e-01]\n",
            " [1.7751710e-05 4.8749470e-03 9.9510729e-01 ... 2.2772887e-05\n",
            "  4.9491599e-03 9.9502808e-01]]\n",
            "/usr/local/lib/python3.8/site-packages/tensorflow/python/keras/engine/sequential.py:455: UserWarning: `model.predict_classes()` is deprecated and will be removed after 2021-01-01. Please use instead:* `np.argmax(model.predict(x), axis=-1)`,   if your model does multi-class classification   (e.g. if it uses a `softmax` last-layer activation).* `(model.predict(x) > 0.5).astype(\"int32\")`,   if your model does binary classification   (e.g. if it uses a `sigmoid` last-layer activation).\n",
            "  warnings.warn('`model.predict_classes()` is deprecated and '\n"
          ]
        }
      ],
      "source": [
        "train=[(sensor_front_data_decision[['x']].values,sensor_front_data_decision[['y']].values),(sensor_front_data_decision[['x']].values,sensor_front_data_decision[['y']].values),(sensor_front_data_decision[['x']].values,sensor_front_data_decision[['y']].values)]\n",
        "sensor_front_data_decision_test = generate_decisions(evaluation=near_sensor,turnaway=turn_away)\n",
        "\n",
        "\n",
        "\n",
        "test= [sensor_front_data_decision_test[['x']].values,sensor_front_data_decision_test[['x']].values,sensor_front_data_decision_test[['x']].values]\n",
        "\n",
        "\n",
        "tree_net = TreeNet([infrared_net,infrared_net_2,infrared_net_3],mainnet=main_net)\n",
        "tree_net.train(data=train,y=sensor_front_data_decision['decision'].values)\n",
        "\n",
        "\n",
        "\n",
        "from sklearn.metrics import accuracy_score\n",
        "predictions=tree_net.predict_class(test)\n"
      ]
    },
    {
      "cell_type": "code",
      "execution_count": 424,
      "metadata": {},
      "outputs": [
        {
          "output_type": "execute_result",
          "data": {
            "text/plain": [
              "array([2, 2, 0, 2, 0, 0, 0, 2, 0, 2, 0, 0, 2, 2, 2, 2, 2, 2, 2, 0, 0, 2,\n",
              "       2, 2, 0, 0, 0, 2, 0, 2, 0, 2, 2, 0, 2, 2, 2, 2, 2, 0, 0, 2, 2, 2,\n",
              "       2, 0, 2, 0, 2, 0, 0, 2, 0, 2, 2, 2, 2, 2, 2, 2, 2, 0, 0, 0, 2, 2,\n",
              "       0, 2, 2, 2, 0, 2, 2, 2, 2, 0, 2, 0, 2, 2, 0, 2, 0, 0, 0, 2, 0, 0,\n",
              "       0, 2, 2, 2, 0, 2, 2, 0, 2, 0, 0, 0, 0, 0, 2, 2, 0, 0, 0, 2, 0, 2,\n",
              "       0, 0, 2, 0, 0, 0, 0, 2, 2, 0, 0, 0, 0, 2, 2, 0, 2, 2, 0, 2, 2, 0,\n",
              "       0, 2, 0, 0, 2, 0, 2, 0, 2, 0, 0, 2, 2, 0, 2, 0, 0, 2, 2, 0, 0, 0,\n",
              "       2, 2, 2, 2, 0, 2, 2, 0, 0, 0, 0, 0, 0, 0, 0, 0, 0, 0, 2, 2, 0, 2,\n",
              "       0, 2, 0, 0, 2, 2, 2, 0, 0, 2, 0, 0, 0, 2, 0, 2, 0, 0, 0, 2, 0, 2,\n",
              "       0, 2, 2, 2, 2, 2, 2, 2, 0, 0, 0, 2, 0, 0, 2, 0, 2, 0, 2, 0, 2, 2,\n",
              "       2, 0, 2, 0, 0, 2, 2, 0, 0, 2, 0, 2, 2, 2, 2, 2, 2, 0, 0, 2, 2, 2,\n",
              "       0, 0, 2, 0, 2, 2, 2, 2, 2, 0, 0, 0, 0, 0, 2, 2, 2, 0, 0, 2, 2, 0,\n",
              "       0, 2, 2, 2, 2, 2, 2, 2, 2, 2, 2, 0, 2, 0, 2, 0, 2, 2, 2, 2, 0, 2,\n",
              "       0, 0, 0, 0, 2, 0, 2, 0, 2, 0, 0, 2, 0, 0, 0, 2, 2, 2, 0, 2, 2, 2,\n",
              "       2, 2, 2, 0, 2, 2, 0, 2, 2, 0, 0, 0, 2, 0, 0, 0, 2, 2, 2, 2, 0, 2,\n",
              "       0, 0, 0, 0, 0, 0, 2, 0, 0, 0, 0, 0, 2, 2, 2, 0, 2, 0, 2, 0, 0, 2,\n",
              "       2, 2, 2, 2, 0, 2, 0, 2, 0, 2, 2, 2, 0, 0, 0, 2, 2, 2, 2, 2, 0, 2,\n",
              "       2, 0, 2, 2, 2, 2, 2, 2, 2, 2, 0, 0, 0, 0, 0, 0, 0, 0, 2, 2, 2, 2,\n",
              "       0, 2, 2, 0, 2, 2, 2, 0, 0, 0, 0, 2, 2, 0, 2, 2, 0, 2, 2, 2, 2, 2,\n",
              "       2, 2, 0, 0, 2, 2, 2, 2, 2, 2, 0, 0, 2, 0, 0, 2, 0, 0, 2, 0, 2, 0,\n",
              "       0, 2, 2, 2, 0, 2, 2, 0, 0, 2, 0, 2, 0, 0, 2, 2, 2, 2, 0, 0, 2, 2,\n",
              "       0, 0, 0, 2, 0, 0, 0, 2, 0, 2, 2, 0, 2, 0, 2, 0, 2, 0, 2, 2, 0, 0,\n",
              "       0, 2, 0, 2, 2, 2, 2, 0, 2, 0, 0, 0, 2, 2, 2, 2, 2, 2, 2, 0, 0, 0,\n",
              "       0, 0, 2, 0, 2, 2, 2, 0, 0, 2, 2, 2, 0, 2, 2, 2, 0, 0, 0, 2, 2, 2,\n",
              "       2, 0, 2, 2, 2, 2, 2, 2, 2, 0, 2, 2, 2, 2, 2, 2, 2, 2, 0, 2, 2, 2,\n",
              "       2, 2, 2, 2, 0, 2, 0, 0, 0, 2, 2, 0, 0, 0, 2, 2, 2, 2, 0, 2, 0, 0,\n",
              "       2, 0, 2, 2, 2, 2, 0, 2, 0, 2, 0, 2, 0, 0, 0, 0, 0, 0, 0, 0, 2, 2,\n",
              "       2, 2, 2, 0, 2, 2, 0, 2, 2, 2, 2, 0, 0, 2, 2, 0, 0, 2, 2, 0, 0, 2,\n",
              "       2, 2, 2, 2, 0, 2, 2, 2, 2, 0, 0, 0, 0, 2, 0, 0, 2, 2, 2, 2, 2, 2,\n",
              "       0, 0, 2, 2, 0, 2, 0, 2, 2, 2, 2, 0, 0, 2, 0, 2, 2, 2, 0, 0, 0, 2,\n",
              "       0, 2, 2, 0, 2, 0, 2, 2, 0, 2, 2, 2, 2, 0, 0, 0, 0, 0, 0, 0, 2, 0,\n",
              "       0, 0, 0, 2, 2, 2, 2, 2, 0, 0, 2, 0, 2, 2, 0, 0, 2, 0, 2, 2, 0, 2,\n",
              "       2, 2, 0, 2, 0, 2, 0, 2, 0, 2, 0, 0, 0, 0, 2, 2, 0, 2, 2, 2, 2, 2,\n",
              "       0, 0, 2, 2, 0, 2, 0, 0, 2, 2, 2, 2, 2, 2, 0, 0, 0, 2, 2, 2, 2, 2,\n",
              "       2, 0, 0, 0, 2, 0, 0, 0, 2, 0, 2, 2, 0, 0, 0, 0, 0, 2, 0, 0, 0, 0,\n",
              "       2, 2, 2, 2, 0, 2, 2, 0, 2, 0, 0, 0, 0, 2, 2, 2, 0, 2, 2, 2, 0, 2,\n",
              "       2, 2, 2, 0, 2, 2, 2, 0, 0, 0, 0, 2, 2, 0, 2, 2, 2, 2, 0, 0, 2, 2,\n",
              "       2, 0, 2, 0, 0, 2, 0, 0, 0, 0, 2, 0, 2, 0, 2, 2, 0, 2, 2, 2, 2, 2,\n",
              "       0, 2, 2, 0, 0, 0, 2, 2, 2, 0, 2, 2, 0, 2, 2, 0, 2, 0, 2, 2, 0, 2,\n",
              "       0, 2, 0, 2, 2, 2, 2, 0, 2, 0, 0, 2, 0, 2, 2, 0, 0, 2, 0, 0, 0, 0,\n",
              "       0, 2, 0, 2, 2, 0, 0, 2, 0, 2, 0, 2, 0, 2, 0, 2, 0, 0, 0, 2, 2, 2,\n",
              "       0, 2, 2, 2, 0, 2, 2, 0, 0, 0, 0, 2, 2, 2, 0, 2, 2, 2, 0, 2, 0, 0,\n",
              "       0, 2, 2, 2, 0, 2, 2, 2, 2, 0, 2, 0, 0, 2, 0, 2, 0, 0, 0, 2, 0, 0,\n",
              "       0, 0, 0, 0, 2, 2, 2, 0, 0, 2, 2, 2, 0, 0, 2, 0, 2, 0, 2, 2, 2, 0,\n",
              "       0, 2, 2, 0, 2, 2, 2, 2, 2, 0, 0, 0, 2, 2, 2, 2, 0, 2, 2, 0, 2, 0,\n",
              "       0, 0, 0, 2, 0, 0, 0, 2, 0, 2])"
            ]
          },
          "metadata": {},
          "execution_count": 424
        }
      ],
      "source": [
        "sensor_front_data_decision['decision'].values"
      ]
    },
    {
      "cell_type": "code",
      "execution_count": 400,
      "metadata": {},
      "outputs": [
        {
          "output_type": "execute_result",
          "data": {
            "text/plain": [
              "array([0, 2, 0, 2, 2, 2, 2, 2, 2, 0, 2, 2, 2, 2, 0, 0, 0, 0, 2, 0, 0, 2,\n",
              "       0, 2, 2, 2, 0, 0, 0, 0, 0, 2, 2, 2, 0, 0, 2, 0, 0, 0, 0, 2, 0, 0,\n",
              "       2, 2, 0, 2, 2, 2, 2, 2, 2, 0, 2, 2, 2, 2, 2, 2, 0, 2, 2, 2, 0, 2,\n",
              "       0, 0, 2, 2, 2, 0, 0, 2, 2, 2, 2, 2, 0, 0, 2, 2, 2, 0, 2, 2, 0, 0,\n",
              "       2, 0, 2, 2, 0, 0, 2, 0, 0, 0, 0, 2, 2, 0, 0, 0, 0, 2, 0, 2, 2, 2,\n",
              "       0, 2, 0, 2, 0, 2, 0, 0, 2, 2, 2, 0, 2, 0, 0, 0, 0, 0, 2, 0, 0, 2,\n",
              "       2, 0, 2, 0, 0, 2, 2, 0, 0, 2, 2, 0, 0, 2, 2, 0, 0, 0, 2, 0, 0, 2,\n",
              "       0, 2, 2, 2, 2, 2, 2, 0, 0, 2, 0, 2, 2, 0, 2, 0, 0, 0, 2, 0, 2, 0,\n",
              "       2, 2, 0, 2, 0, 0, 2, 2, 2, 2, 0, 0, 0, 2, 0, 2, 2, 0, 0, 0, 2, 2,\n",
              "       0, 2, 2, 2, 0, 2, 2, 2, 2, 2, 0, 2, 0, 0, 2, 2, 0, 0, 0, 2, 2, 2,\n",
              "       2, 0, 0, 2, 2, 0, 2, 2, 0, 2, 0, 2, 0, 2, 0, 0, 0, 2, 0, 0, 2, 2,\n",
              "       2, 0, 2, 0, 2, 0, 0, 2, 2, 0, 2, 0, 2, 0, 0, 2, 2, 0, 0, 2, 0, 2,\n",
              "       0, 0, 2, 2, 2, 0, 2, 2, 2, 2, 0, 0, 2, 0, 0, 2, 2, 0, 0, 2, 2, 2,\n",
              "       2, 2, 2, 2, 2, 0, 0, 2, 0, 2, 2, 2, 2, 0, 2, 0, 2, 2, 2, 0, 2, 2,\n",
              "       2, 0, 2, 2, 2, 0, 2, 2, 0, 2, 2, 2, 2, 2, 0, 2, 0, 2, 2, 0, 2, 2,\n",
              "       0, 0, 0, 2, 2, 0, 2, 0, 2, 0, 0, 0, 0, 2, 2, 0, 0, 2, 2, 2, 2, 2,\n",
              "       0, 2, 2, 2, 2, 0, 0, 0, 0, 2, 0, 0, 2, 0, 2, 2, 0, 0, 2, 2, 0, 0,\n",
              "       0, 0, 0, 0, 2, 0, 2, 2, 2, 0, 0, 2, 0, 2, 0, 2, 0, 2, 0, 2, 2, 2,\n",
              "       2, 2, 2, 2, 0, 2, 2, 2, 2, 0, 0, 2, 2, 2, 2, 0, 2, 0, 0, 2, 2, 0,\n",
              "       0, 2, 2, 0, 0, 2, 0, 2, 2, 0, 0, 0, 2, 2, 0, 2, 2, 2, 2, 2, 0, 2,\n",
              "       2, 0, 0, 0, 0, 2, 2, 0, 2, 2, 2, 2, 2, 0, 2, 0, 0, 2, 0, 0, 2, 2,\n",
              "       2, 0, 2, 0, 2, 0, 0, 0, 2, 0, 0, 2, 0, 0, 2, 0, 0, 2, 2, 0, 0, 2,\n",
              "       0, 0, 2, 2, 2, 2, 0, 0, 2, 2, 2, 2, 0, 2, 0, 2, 2, 0, 2, 0, 0, 2,\n",
              "       0, 2, 2, 0, 2, 2, 2, 0, 0, 2, 0, 2, 0, 0, 0, 2, 2, 0, 0, 0, 0, 0,\n",
              "       2, 0, 0, 2, 2, 2, 2, 2, 2, 0, 2, 2, 2, 2, 2, 2, 2, 0, 2, 0, 2, 0,\n",
              "       2, 0, 0, 2, 2, 2, 2, 2, 2, 0, 0, 0, 0, 2, 2, 0, 2, 2, 2, 2, 2, 2,\n",
              "       2, 0, 2, 0, 2, 0, 2, 0, 2, 0, 0, 2, 0, 2, 0, 0, 0, 2, 0, 2, 2, 2,\n",
              "       0, 2, 0, 0, 0, 2, 0, 2, 2, 2, 0, 0, 2, 0, 0, 0, 0, 0, 2, 2, 2, 0,\n",
              "       0, 0, 2, 2, 2, 2, 2, 0, 2, 2, 0, 0, 0, 2, 0, 0, 0, 2, 2, 0, 0, 2,\n",
              "       0, 0, 2, 0, 2, 2, 2, 2, 2, 2, 2, 0, 2, 0, 0, 0, 0, 0, 0, 2, 0, 2,\n",
              "       0, 2, 0, 0, 2, 2, 2, 2, 2, 2, 2, 2, 0, 0, 0, 2, 0, 0, 2, 0, 2, 2,\n",
              "       2, 0, 0, 0, 2, 2, 2, 2, 2, 2, 2, 2, 2, 0, 0, 0, 0, 0, 2, 0, 0, 2,\n",
              "       2, 2, 2, 0, 2, 0, 0, 0, 0, 2, 0, 0, 0, 0, 0, 0, 2, 2, 0, 0, 0, 2,\n",
              "       0, 2, 0, 0, 2, 0, 2, 0, 0, 2, 0, 0, 0, 2, 0, 0, 2, 0, 0, 2, 2, 2,\n",
              "       2, 2, 2, 2, 0, 2, 2, 0, 2, 2, 0, 0, 0, 2, 0, 0, 0, 0, 2, 0, 0, 0,\n",
              "       0, 0, 2, 0, 0, 2, 0, 2, 0, 0, 2, 0, 0, 0, 2, 2, 2, 2, 2, 2, 0, 2,\n",
              "       2, 2, 0, 2, 2, 2, 2, 2, 2, 0, 0, 2, 2, 0, 2, 0, 2, 2, 2, 0, 0, 2,\n",
              "       0, 0, 2, 0, 2, 2, 0, 0, 0, 2, 2, 2, 2, 2, 2, 0, 2, 0, 2, 0, 2, 0,\n",
              "       2, 2, 0, 2, 0, 2, 0, 0, 2, 0, 0, 0, 0, 2, 0, 2, 0, 0, 2, 2, 2, 2,\n",
              "       0, 0, 0, 0, 2, 0, 2, 0, 0, 2, 0, 2, 2, 2, 2, 2, 2, 2, 0, 0, 2, 0,\n",
              "       0, 0, 0, 0, 2, 0, 2, 2, 2, 0, 0, 2, 2, 0, 0, 0, 0, 2, 2, 2, 2, 0,\n",
              "       0, 2, 0, 2, 0, 0, 0, 0, 2, 2, 2, 2, 0, 2, 0, 2, 0, 2, 2, 2, 0, 2,\n",
              "       0, 2, 2, 0, 2, 2, 2, 2, 0, 2, 0, 2, 2, 2, 0, 2, 2, 0, 2, 0, 2, 2,\n",
              "       0, 0, 0, 2, 0, 2, 2, 2, 0, 2, 2, 2, 2, 0, 0, 0, 0, 0, 0, 0, 0, 0,\n",
              "       2, 2, 0, 2, 2, 0, 2, 0, 2, 2, 2, 2, 2, 0, 2, 0, 2, 2, 2, 2, 0, 0,\n",
              "       2, 2, 2, 2, 0, 0, 0, 2, 0, 0])"
            ]
          },
          "metadata": {},
          "execution_count": 400
        }
      ],
      "source": [
        "predictions"
      ]
    },
    {
      "cell_type": "code",
      "execution_count": 401,
      "metadata": {},
      "outputs": [
        {
          "output_type": "execute_result",
          "data": {
            "text/plain": [
              "0.989"
            ]
          },
          "metadata": {},
          "execution_count": 401
        }
      ],
      "source": [
        "accuracy_score(sensor_front_data_decision_test['decision'],predictions)"
      ]
    },
    {
      "cell_type": "code",
      "execution_count": 322,
      "metadata": {},
      "outputs": [
        {
          "output_type": "execute_result",
          "data": {
            "text/plain": [
              "[[[1.028258], [1.028258]], [[0.31], [0.31]]]"
            ]
          },
          "metadata": {},
          "execution_count": 322
        }
      ],
      "source": [
        "tree_net.standardize_data_all([[1.028258,1.028258],[.31,.31]])"
      ]
    },
    {
      "cell_type": "code",
      "metadata": {
        "id": "5X44YH4YsHIZ"
      },
      "source": [
        "class GameWrapper():\n",
        "  def __init__(self,treenet):\n",
        "    self.model = treenet\n",
        "    self.map = generateMap(40)\n",
        "    self.orientation = 0\n",
        "    self.obstacle = 0\n",
        "    self.position = [0,0]\n",
        "\n",
        "# generate a size x size map\n",
        "  def generateMap(self,size):\n",
        "    lst = []\n",
        "    for x in range(size):\n",
        "        ll = []\n",
        "        for x in range(size):\n",
        "            ll.append(0)\n",
        "        lst.append(ll)\n",
        "    return lst\n",
        "\n",
        "  def generateObstacle(self):\n",
        "    pass\n",
        "\n",
        "  def generateState(self):\n",
        "    data= []\n",
        "    for model in self.model.sensors:\n",
        "      if(\"infrared\" in model.name):\n",
        "        sensor = random.random()\n",
        "        #crash= if random.random() > .5\n",
        "        #data.append([random.random(),crash])\n",
        "\n",
        "      # else:\n",
        "      #   model.predict(random.random())\n",
        "    self.state= data\n",
        "  def act(self):\n",
        "    pass\n",
        "  def predict(self):\n",
        "    prediction = self.model.predict(self.state)\n",
        "    return(prediction)\n",
        "  \n",
        "    "
      ],
      "execution_count": null,
      "outputs": []
    },
    {
      "cell_type": "code",
      "metadata": {
        "id": "edPH4wH67V7r"
      },
      "source": [
        "action_space = {1:\"left\",2:\"right\",3:\"up\",4:\"down\",5:'stop'}\n",
        "\n",
        "# Wheel data ()\n",
        "# Torque, orientation, speed.\n",
        "# IF all four wheels aren't spinning etc...\n",
        "# It's like having a GPS and GPS position doesn't change.\n"
      ],
      "execution_count": null,
      "outputs": []
    },
    {
      "cell_type": "code",
      "metadata": {
        "id": "vrNJ2Dix2UlU"
      },
      "source": [
        "#touch: A measurement of resistance (continious - whiskers bend [0,1])\n",
        "#Not touching, touching lightly, Touching a lot \n",
        "touch_data_back = [[0.1,0],[0.1,1]]\n",
        "touch_data_back = pd.DataFrame(touch_data_back)\n",
        "touch_data_back.columns = ['touch','time']\n",
        "\n",
        "touch_data_front = [[0.1,0],[0.1,1]]\n",
        "touch_data_front = pd.DataFrame(touch_data_front)\n",
        "touch_data_front.columns = ['touch','time']"
      ],
      "execution_count": null,
      "outputs": []
    },
    {
      "cell_type": "markdown",
      "metadata": {
        "id": "mxcFlTDA-rEV"
      },
      "source": [
        "### Multiple input Model"
      ]
    },
    {
      "cell_type": "code",
      "metadata": {
        "id": "d2ZnLT6yzibS"
      },
      "source": [
        "#Train leaf all by itself, lock the leaves. Still send data through them, their output is used to train the next layer. Lock those layers.\n",
        "#Combining touch and whether wheels were turning: Can conclude that the object im pushing on is not moveable. Abstract information gathering*\n",
        "#Come up with a data table and send it into the robot to produce actions.\n",
        "\n",
        "\n",
        "input_front_sensor = keras.layers.Input(shape=sensor_data_front.shape[1], name=\"front_sensor_input\")\n",
        "input_front_touch = keras.layers.Input(shape=touch_data_front.shape[1], name=\"front_touch_sensor_input\")\n",
        "input_back_sensor = keras.layers.Input(shape=sensor_data_front.shape[1], name=\"back_sensor_input\")\n",
        "input_back_touch = keras.layers.Input(shape=sensor_data_front.shape[1], name=\"back_touch_sensor_input\")\n",
        "\n",
        "hidden1 = keras.layers.Dense(30, activation=\"relu\")(input_front_sensor)\n",
        "hidden2 = keras.layers.Dense(1, activation=\"relu\")(hidden1)\n",
        "hidden3 = keras.layers.Dense(30, activation=\"relu\")(input_back_sensor)\n",
        "hidden4 = keras.layers.Dense(1, activation=\"relu\")(hidden3)\n",
        "concat = keras.layers.concatenate([hidden2,hidden4])\n",
        "hidden5 = keras.layers.Dense(30,activation=\"relu\")(concat)\n",
        "\n",
        "output = keras.layers.Dense(5, name=\"output\")(hidden5)\n",
        "\n",
        "\n",
        "model = keras.models.Model(inputs=[input_front_sensor,input_back_sensor], outputs=[output])"
      ],
      "execution_count": null,
      "outputs": []
    },
    {
      "cell_type": "code",
      "metadata": {
        "colab": {
          "base_uri": "https://localhost:8080/",
          "height": 644
        },
        "id": "76fD7B7H0vmx",
        "outputId": "5fd3bb10-412b-4568-b498-3f1aa63dd9f7"
      },
      "source": [
        "keras.utils.plot_model(model, \"test.png\", show_shapes=True)"
      ],
      "execution_count": null,
      "outputs": [
        {
          "output_type": "execute_result",
          "data": {
            "image/png": "[encoded data removed]",
            "text/plain": [
              "<IPython.core.display.Image object>"
            ]
          },
          "metadata": {
            "tags": []
          },
          "execution_count": 13
        }
      ]
    }
  ]
}